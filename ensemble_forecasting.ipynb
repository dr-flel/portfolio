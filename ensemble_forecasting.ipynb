{
 "cells": [
  {
   "cell_type": "code",
   "execution_count": 2,
   "id": "274def41-b322-45d3-bd72-926d84682a8b",
   "metadata": {},
   "outputs": [],
   "source": [
    "import pandas as pd\n",
    "pd.set_option('display.float_format', '{:,.3f}'.format)\n",
    "import numpy as np\n",
    "import time\n",
    "import itertools\n",
    "import datetime\n",
    "import logging\n",
    "import random\n",
    "\n",
    "import sktime.forecasting.naive as skt\n",
    "\n",
    "import pmdarima as pmd\n",
    "from pmdarima.arima import auto_arima\n",
    "from pmdarima.preprocessing import FourierFeaturizer\n",
    "\n",
    "from prophet import Prophet\n",
    "from prophet.diagnostics import cross_validation, performance_metrics\n",
    "\n",
    "from statsmodels.tsa.seasonal import STL\n",
    "from statsmodels.tsa.api import STLForecast\n",
    "from statsmodels.tsa.arima.model import ARIMA\n",
    "from sklearn.metrics import mean_squared_error, mean_absolute_percentage_error\n",
    "from sklearn.metrics import mean_absolute_percentage_error\n",
    "from statsmodels.tsa.seasonal import MSTL"
   ]
  },
  {
   "cell_type": "code",
   "execution_count": 3,
   "id": "704fd3e7-a998-473e-a8f7-99cf3c60c299",
   "metadata": {},
   "outputs": [],
   "source": [
    "# Prophet spits out a lot of warnings etc.\n",
    "for name in (\"cmdstanpy\", \"prophet\", \"prophet.forecaster\"):\n",
    "    lg = logging.getLogger(name)\n",
    "    lg.setLevel(logging.CRITICAL)   \n",
    "    lg.propagate = False\n",
    "    lg.handlers.clear()\n",
    "    lg.addHandler(logging.NullHandler())"
   ]
  },
  {
   "cell_type": "markdown",
   "id": "493bc117-3a36-48ae-9f09-007ebf6a0518",
   "metadata": {},
   "source": [
    "# Objective and Scope"
   ]
  },
  {
   "cell_type": "markdown",
   "id": "ffb7c4aa-5458-4899-988b-fe3d16572e06",
   "metadata": {},
   "source": [
    "The objective of this notebook is to showcase the concept of a forecasting ensemble model using a no-analyst-in-the-loop approach, suitable for modeling a large number of diverse time series. My goal is not to achieve the highest possible accuracy, so I intentionally use only a subset of available features without exentsive feature engenieering, a small selection of models, and limited hyperparameter tuning. The dataset used is from the <a href=\"https://www.kaggle.com/competitions/rossmann-store-sales\">Rossmann Store Sales Kaggle challenge</a> .\n",
    "\n",
    "The ensemble model combines two ARIMA models (one on raw data and one on transformed data) and Facebook Prophet. In line with a no-analyst-in-the-loop approach, I will not visually inspect the time series, the ACF or PACF plots, check for stationarity, etc. Instead, I identify an appropriate hyperparameter combination, including differencing, by minimizing information criteria or a loss function (MAPE) for each individual model during the training stage. The validation set is then used to determine the ensemble weights. These weights are based on the model specifications from the training stage; I do not retune the models after combining the datasets (training + validation) for final predictions, to ensure consistency between validation-based weighting and out-of-sample forecasts. The ensemble model's performance is compared to a naive forecaster using MAPE as the evaluation metric.\n",
    "\n",
    "Note: This is a work in progress. Future additions will include cross-validation for more robust ensemble weighting, and a comparison between analytical and bootstrapped confidence intervals."
   ]
  },
  {
   "cell_type": "code",
   "execution_count": 6,
   "id": "fa5b471e-9aff-4300-86d8-ceab77843a87",
   "metadata": {},
   "outputs": [],
   "source": [
    "df = pd.read_csv('train.csv', dtype={'StateHoliday': str})"
   ]
  },
  {
   "cell_type": "code",
   "execution_count": 7,
   "id": "de2fa23e-d06d-454c-bd51-5b89c239a67b",
   "metadata": {},
   "outputs": [],
   "source": [
    "df.columns = df.columns.str.lower()"
   ]
  },
  {
   "cell_type": "code",
   "execution_count": 8,
   "id": "224b0bd0-5183-4151-a2ed-d9ed44fc4839",
   "metadata": {},
   "outputs": [],
   "source": [
    "df.drop(['customers', 'stateholiday', 'schoolholiday'], axis = 1 ,inplace = True)"
   ]
  },
  {
   "cell_type": "code",
   "execution_count": 9,
   "id": "470c125c-2bb7-433a-a72a-a674fc21676c",
   "metadata": {},
   "outputs": [],
   "source": [
    "df.date = pd.to_datetime(df.date,format = '%Y-%m-%d')"
   ]
  },
  {
   "cell_type": "code",
   "execution_count": 10,
   "id": "c7c38cb5-6bab-4677-9ca3-07a68916059d",
   "metadata": {},
   "outputs": [],
   "source": [
    "df['month'] = df.date.dt.month"
   ]
  },
  {
   "cell_type": "code",
   "execution_count": 11,
   "id": "f4a16674-d64b-477d-930d-8cc8f82c6e50",
   "metadata": {},
   "outputs": [],
   "source": [
    "df['sales'] = df['sales'].astype(float)"
   ]
  },
  {
   "cell_type": "code",
   "execution_count": 12,
   "id": "38822c70-45ad-41e9-84dc-02ec9d60c477",
   "metadata": {},
   "outputs": [],
   "source": [
    "df.sort_values(by = ['store','date'],inplace = True)"
   ]
  },
  {
   "cell_type": "markdown",
   "id": "9ee0b156-5d09-497a-89aa-d7b39b8033b3",
   "metadata": {},
   "source": [
    "# Feature Engineering "
   ]
  },
  {
   "cell_type": "markdown",
   "id": "e8a3b3a4-8941-461f-a654-b84b6cf3e62c",
   "metadata": {},
   "source": [
    "**Data Transformation**"
   ]
  },
  {
   "cell_type": "markdown",
   "id": "480815a2-7457-46ae-b85a-3649b5c67285",
   "metadata": {},
   "source": [
    "In some cases, we observe zero sales despite an open store. Since this is not plausible, I replace the values by the median per group (store, month, day of the week)"
   ]
  },
  {
   "cell_type": "code",
   "execution_count": 16,
   "id": "6fbe25cb-6ec0-4c44-825d-0c8feeca7b32",
   "metadata": {},
   "outputs": [],
   "source": [
    "group_keys = ['month', 'store', 'dayofweek']\n",
    "grouped_median = df['sales'].where((df['open'] == 1) & (df['sales'] > 0)).groupby([df[k] for k in group_keys]).transform('median')\n",
    "\n",
    "df.loc[df['sales'].isna() | ((df['sales'] == 0) & (df['open'] == 1)), 'sales'] = grouped_median"
   ]
  },
  {
   "cell_type": "markdown",
   "id": "41dd495e-98b7-45f0-89b8-f7162d9890fb",
   "metadata": {},
   "source": [
    "Sales are zero when a store is closed. Given sales distribution, it seems reasonable to simplify the transformation by adding 1 to all sales values, allowing a log transformation."
   ]
  },
  {
   "cell_type": "code",
   "execution_count": 18,
   "id": "24583640-ff84-4ec0-817a-d70a162902bb",
   "metadata": {},
   "outputs": [],
   "source": [
    "df['log_sales'] = np.log1p(df.sales)"
   ]
  },
  {
   "cell_type": "markdown",
   "id": "7e7c7fb6-aab1-416c-9af6-e15103949a2d",
   "metadata": {},
   "source": [
    "## Season"
   ]
  },
  {
   "cell_type": "markdown",
   "id": "9442ed6c-6a6a-4fa5-9816-d790f72b2fb6",
   "metadata": {},
   "source": [
    "Sales data likely exhibit (at least) two types of seasonality: weekly and annual. Below, I briefly investigate both and discuss potential ways to address them. In general, Prophet offers rich seasonal modeling options, including multiple seasonalities, holidays and Fourier terms. ARIMA models, on the other hand, can typically handle only one seasonality."
   ]
  },
  {
   "cell_type": "markdown",
   "id": "331fe245-cba9-4ca9-bf05-0b05ff8bab5b",
   "metadata": {},
   "source": [
    "**Weekly Season & Store Business Days**"
   ]
  },
  {
   "cell_type": "code",
   "execution_count": 22,
   "id": "1e687d8a-ca49-4cbc-8a50-9e03dd33570e",
   "metadata": {},
   "outputs": [
    {
     "data": {
      "text/plain": [
       "dayofweek\n",
       "1   7,809.204\n",
       "2   7,005.562\n",
       "3   6,556.488\n",
       "4   6,248.415\n",
       "5   6,723.618\n",
       "6   5,847.810\n",
       "7     204.183\n",
       "Name: sales, dtype: float64"
      ]
     },
     "execution_count": 22,
     "metadata": {},
     "output_type": "execute_result"
    }
   ],
   "source": [
    "df.groupby('dayofweek')['sales'].mean()"
   ]
  },
  {
   "cell_type": "markdown",
   "id": "38e262de-834f-4375-bae8-c93a74a316eb",
   "metadata": {},
   "source": [
    "*Sunday, Public Holidays, and Adjacent days*"
   ]
  },
  {
   "cell_type": "markdown",
   "id": "7a729249-e44d-4f81-9cc6-12e6521d3237",
   "metadata": {},
   "source": [
    "In general, shops must not open in Germany on a Sunday. However, there are exceptions (e.g. in train stations). Hence, the above distribution is not unreasonable. Let us take a closer look at sales on Sundays. "
   ]
  },
  {
   "cell_type": "code",
   "execution_count": 25,
   "id": "4c98742a-e31a-4fd6-b5d0-2bc532899fcf",
   "metadata": {},
   "outputs": [
    {
     "data": {
      "text/plain": [
       "8224.723907598107"
      ]
     },
     "execution_count": 25,
     "metadata": {},
     "output_type": "execute_result"
    }
   ],
   "source": [
    "df.query('sales > 0 & dayofweek == 7').sales.mean()"
   ]
  },
  {
   "cell_type": "markdown",
   "id": "da4e134a-a140-46d9-9434-41ff7d6e5305",
   "metadata": {},
   "source": [
    "This volume is consistent with the above distribution and hence, non-zero sales on Sundays are unlikely to be a glitch in the data. I could introduce another dummy variable for open Sundays. However, I proceed without it in light of the objective of the exercise. "
   ]
  },
  {
   "cell_type": "markdown",
   "id": "317ee50f-20be-48d7-9bae-602f830efe4d",
   "metadata": {},
   "source": [
    "Sales on days adjacent to a Sunday/public holiday likely differ from regular days. I therefore introduce two dummy variables."
   ]
  },
  {
   "cell_type": "code",
   "execution_count": 27,
   "id": "202615b1-7164-4d68-baec-bb636268dc5f",
   "metadata": {},
   "outputs": [],
   "source": [
    "# Recoding to improve intuition. \n",
    "df['close'] = np.where(df.open == 1, 0, 1)"
   ]
  },
  {
   "cell_type": "code",
   "execution_count": 28,
   "id": "4cf0bc60-16e4-4761-a991-06099fc67093",
   "metadata": {},
   "outputs": [],
   "source": [
    "df['pre_close'] = df.groupby('store')['close'].shift(-1)\n",
    "df['post_close'] = df.groupby('store')['close'].shift(1)"
   ]
  },
  {
   "cell_type": "code",
   "execution_count": 29,
   "id": "121d5934-7e9c-4bad-8c7f-bd40f746225b",
   "metadata": {},
   "outputs": [],
   "source": [
    "# Necessary for the first and last day in the dataset (no previous/following day).\n",
    "first_date = df['date'].min()\n",
    "last_date = df['date'].max()\n",
    "\n",
    "df.loc[df['date'] == first_date, 'post_close'] = 0\n",
    "df.loc[df['date'] == last_date, 'pre_close'] = 0"
   ]
  },
  {
   "cell_type": "markdown",
   "id": "506296b3-8206-4d12-a2ea-5fa57b56d58f",
   "metadata": {},
   "source": [
    "*Saturday*"
   ]
  },
  {
   "cell_type": "markdown",
   "id": "ba2c834f-7d92-441b-9f9c-c1871aff8366",
   "metadata": {},
   "source": [
    "We see that Saturday sales are lower on average. Some stores may have reduced business hours on a Saturday which I will capture by dummy variable."
   ]
  },
  {
   "cell_type": "code",
   "execution_count": 32,
   "id": "ebc96c3a-fda5-46ad-8b37-577544f02c44",
   "metadata": {},
   "outputs": [],
   "source": [
    "df['short_day'] = np.where(df.dayofweek == 6, 1, 0)"
   ]
  },
  {
   "cell_type": "markdown",
   "id": "988fbd5c-6ad6-4b68-99a0-b73cd23d1f1a",
   "metadata": {},
   "source": [
    "**Annual Season**"
   ]
  },
  {
   "cell_type": "code",
   "execution_count": 35,
   "id": "b041f8ea-dd1b-4521-b7fa-e584401f0023",
   "metadata": {},
   "outputs": [
    {
     "data": {
      "text/plain": [
       "<Axes: xlabel='month'>"
      ]
     },
     "execution_count": 35,
     "metadata": {},
     "output_type": "execute_result"
    },
    {
     "data": {
      "image/png": "[encoded data removed]",
      "text/plain": [
       "<Figure size 640x480 with 1 Axes>"
      ]
     },
     "metadata": {},
     "output_type": "display_data"
    }
   ],
   "source": [
    "df.groupby('month')['sales'].mean().plot()"
   ]
  },
  {
   "cell_type": "markdown",
   "id": "ee90db46-f328-4a32-8898-8856f2824673",
   "metadata": {},
   "source": [
    "We have two complete years of annual data, which should allow us to capture the respective season. However, the sharp year-end spike might pose a challenge from a modeling perspective. In Prophet, tuning the appropriate hyperparameters could help address the spike. \n",
    "\n",
    "Since ARIMA models cannot natively handle multiple seasonalities, we might consider using monthly dummy variables as exogenous regressors. Alternatively, I could decompose the time series (e.g., using MSTL), model the resulting remainder series with ARIMA, and then add the resulting forecasts together. However, given the objective of the exercise and the fact that actual forecasts are not required for the end of the year, I will ignore this phenomenon in the ARIMA models."
   ]
  },
  {
   "cell_type": "markdown",
   "id": "1d35e678-a4ac-4506-8036-5dfd980e8215",
   "metadata": {},
   "source": [
    "# Modeling"
   ]
  },
  {
   "cell_type": "markdown",
   "id": "c47678db-f140-4663-8b39-7e384f7eb253",
   "metadata": {},
   "source": [
    "## Data Split"
   ]
  },
  {
   "cell_type": "code",
   "execution_count": 39,
   "id": "0fedacb5-f1e3-4002-b8d1-04b0c78c3b49",
   "metadata": {},
   "outputs": [],
   "source": [
    "# I proceed with a subset of all stores.\n",
    "stores = df.store.unique().tolist()\n",
    "random.seed(42)\n",
    "sample = random.sample(stores, 50)"
   ]
  },
  {
   "cell_type": "code",
   "execution_count": 40,
   "id": "36e719d9-847b-4f15-9635-71ab69b09aec",
   "metadata": {},
   "outputs": [],
   "source": [
    "df = df.query('store in @sample').copy()"
   ]
  },
  {
   "cell_type": "code",
   "execution_count": 41,
   "id": "dcd46797-4539-486e-89ac-6b26ae653c94",
   "metadata": {},
   "outputs": [],
   "source": [
    "df_train = df.query('date < \"2015-05-01\" & store < 30000').copy()"
   ]
  },
  {
   "cell_type": "code",
   "execution_count": 42,
   "id": "e5cd5fc0-4fbf-4106-a5bc-5aa85f7121a4",
   "metadata": {},
   "outputs": [],
   "source": [
    "df_val = df.query('date >= \"2015-05-01\" & date < \"2015-06-15\" & store < 30000').copy()"
   ]
  },
  {
   "cell_type": "code",
   "execution_count": 43,
   "id": "eee5cb6f-617b-444e-a9ac-faadacd57191",
   "metadata": {},
   "outputs": [],
   "source": [
    "df_test = df.query('date >= \"2015-06-15\" & store < 30000').copy()"
   ]
  },
  {
   "cell_type": "code",
   "execution_count": 44,
   "id": "3f285aea-ac66-4e29-9b68-22f8aa6c4847",
   "metadata": {},
   "outputs": [],
   "source": [
    "stores = df_train.store.unique().tolist()"
   ]
  },
  {
   "cell_type": "markdown",
   "id": "e480521b-f953-4c8b-bc2d-f97982837030",
   "metadata": {},
   "source": [
    "## Helper Functions"
   ]
  },
  {
   "cell_type": "markdown",
   "id": "eedc8dc9-c7d5-4867-8a9e-767b9afc905f",
   "metadata": {},
   "source": [
    "To improve readability, bug fixing, and maintainability, I define functions outside of the modeling loop."
   ]
  },
  {
   "cell_type": "code",
   "execution_count": 47,
   "id": "c8f0c010-edc8-4477-aa64-272523045691",
   "metadata": {},
   "outputs": [],
   "source": [
    "# Data Preperation\n",
    "def prepare_data(ts_id, df_train, df_val, df_test):\n",
    "    # Filter data \n",
    "    training = df_train[df_train[\"store\"] == ts_id].copy()\n",
    "    validation = df_val[df_val[\"store\"] == ts_id].copy()\n",
    "    test = df_test[df_test[\"store\"] == ts_id].copy()\n",
    "\n",
    "    # Target variables\n",
    "    y_train_log = training[\"log_sales\"]\n",
    "    y_train = training[\"sales\"]\n",
    "\n",
    "    # Dataset lengths\n",
    "    val_len = len(validation)\n",
    "    test_len = len(test)\n",
    "\n",
    "    # Short Saturday Fix. As argued above, only some Saturdays have shorter business hours. In these cases, the dummy doesnt add any value. \n",
    "    if training.query('dayofweek == 6').sales.mean() < 0.8 * training.query('dayofweek < 6').sales.mean(): # Assumption: Saturdays are only shorter if the Saturday mean is less than 80%. \n",
    "        features = ['promo', 'short_day', 'close', 'pre_close', 'post_close']\n",
    "    else:\n",
    "        features = ['promo', 'close', 'pre_close', 'post_close']\n",
    "\n",
    "    # Extract exogenous variables\n",
    "    X_train = training[features]\n",
    "    X_val = validation[features]\n",
    "    X_test = test[features]\n",
    "\n",
    "    return y_train, y_train_log, X_train, X_val, X_test, training, validation, test, val_len, test_len, "
   ]
  },
  {
   "cell_type": "code",
   "execution_count": 48,
   "id": "8b594bc0-5238-4fcc-ba7d-249418e57733",
   "metadata": {},
   "outputs": [],
   "source": [
    "# A dictionary to compute and store the error metric. This will be used for the ensemble weights.\n",
    "def append_error_metric(metrics_list, store_id, model_name, df, actual_col, forecast_col):\n",
    "    df = df[df[actual_col] != 0] # Closed days should be ignored in the computation of the error metric. The forecasts are set to zero post processing, see below  \n",
    "    mape = mean_absolute_percentage_error(df[actual_col],df[forecast_col])\n",
    "    metrics_list.append({\n",
    "        \"store\":     store_id,\n",
    "        \"model\":     model_name,\n",
    "        \"error_val\": mape,\n",
    "    })"
   ]
  },
  {
   "cell_type": "code",
   "execution_count": 49,
   "id": "23681aae-f536-4f9d-9c4a-566ed431889d",
   "metadata": {},
   "outputs": [],
   "source": [
    "# Naive Forecast (Benchmark)\n",
    "def naive_fc(y_train,df_out,target_col, leng,mask):\n",
    "    model_naive = skt.NaiveForecaster(strategy = 'last', sp = 7) # Use the value of previous week to capture weekly season\n",
    "    model_naive.fit(y_train)\n",
    "    fc_naive = model_naive.predict(fh = np.arange(1,leng+1))\n",
    "    df_out.loc[mask, target_col] = fc_naive"
   ]
  },
  {
   "cell_type": "code",
   "execution_count": 50,
   "id": "626be813-c9a2-48f5-8f7d-63ed9e297cf1",
   "metadata": {},
   "outputs": [],
   "source": [
    "# Fit & Validation ARIMA Models\n",
    "## The hyperparameter space is chosen to be somewhat parsimonious to reduce computational cost \n",
    "def arima_model(y_train,X_train,X_val,n_periods):\n",
    "    model = pmd.auto_arima(y = y_train, X = X_train, seasonal = True,  max_p = 2, max_q = 2, max_d = 1, m = 7, max_P = 1, max_Q = 1, max_D = 1)\n",
    "    pred_arima = model.predict(n_periods = n_periods, X = X_val)\n",
    "    return model, pred_arima"
   ]
  },
  {
   "cell_type": "code",
   "execution_count": 51,
   "id": "0892e774-a009-482b-babb-de75f3678738",
   "metadata": {},
   "outputs": [],
   "source": [
    "# ARIMA Predictions\n",
    "def arima_fc(arima_model,y_val,X_val, X_test,df_out, target_col, leng, mask, logs: bool = False):\n",
    "    arima_model.update(y_val, X_val) \n",
    "    fc_arima = arima_model.predict(n_periods = leng, X = X_test)\n",
    "    if logs:\n",
    "        fc_arima = np.exp(fc_arima)\n",
    "    df_out.loc[mask, target_col] = fc_arima"
   ]
  },
  {
   "cell_type": "markdown",
   "id": "4d724840-27fd-40d5-8241-274ce525fc0a",
   "metadata": {},
   "source": [
    "As mentioned in the introduction, I update the model parameters using the full training dataset (i.e., both training and validation data). Hence, the model structure is determined based solely on the *training data*."
   ]
  },
  {
   "cell_type": "code",
   "execution_count": 53,
   "id": "f8d1582b-457b-402e-82c8-2c50630b004a",
   "metadata": {},
   "outputs": [],
   "source": [
    "# Tune Prophet hyperparameters\n",
    "## I do not attempt to tune all Prophet hyperparameters. Instead, I focus on those (changepoint_prioer_scale & seasonality_prior_scale) that likely have the greatest impact (see documentation). \n",
    "## Furthermore, I allow for an additive and mulitplicative season. The approach can easily be extended to include more hyperparameters (see above).\n",
    "cps_list = [0.001,.05,.5]\n",
    "sps_list = [0.01,1,10] \n",
    "season_list = ['additive','multiplicative']\n",
    "def prophet_model(df_p, exo_regressors, cps_list, sps_list,season_list, initial_days):\n",
    "    prophet_parameters = []\n",
    "    all_combinations = itertools.product(cps_list,sps_list,season_list)\n",
    "    for scale,season_scale,season_mode in all_combinations:\n",
    "        prophet_m = Prophet(changepoint_prior_scale = scale, seasonality_prior_scale = season_scale, seasonality_mode = season_mode) #'additive'\n",
    "        prophet_m.add_country_holidays(country_name = 'Germany')\n",
    "        for reg in exo_regressors:\n",
    "            prophet_m.add_regressor(reg)\n",
    "        prophet_m.fit(df_p)\n",
    "        \n",
    "        df_cv = cross_validation(prophet_m, horizon='40 days', initial=initial_days, period='120 days', parallel=\"processes\")      \n",
    "        df_nz = df_cv[df_cv['y'] != 0].copy() # Zero sales values are dopped for Mape computation\n",
    "        df_nz['pe'] = np.abs((df_nz['yhat'] - df_nz['y'])/ df_nz['y'])\n",
    "        mape_by_fold = df_nz.groupby('cutoff')['pe'].mean() \n",
    "        mape_mean = mape_by_fold.mean() # Mape without zero sales. Equal weights for each horizon/fold\n",
    "        \n",
    "        prophet_parameters.append({\n",
    "            'changepoint_prior_scale': scale,\n",
    "            'seasonality_prior_scale': season_scale,\n",
    "            'seasonality_mode': season_mode,\n",
    "            'acc_metric': mape_mean \n",
    "        })\n",
    "    \n",
    "    best_prophet_parameters = min(prophet_parameters, key=lambda x: x['acc_metric'])\n",
    "    return best_prophet_parameters"
   ]
  },
  {
   "cell_type": "code",
   "execution_count": 54,
   "id": "0ad88e2c-fbad-4b1f-b8fc-4eabd12a0592",
   "metadata": {},
   "outputs": [],
   "source": [
    "# Fit the best Prophet model and add predictions\n",
    "def prophet_fit (df_p, exo_regressors, best_prophet_parameters, X_future, df_out, target_col, leng):\n",
    "    # Model fit\n",
    "    prophet_model = Prophet(changepoint_prior_scale = best_prophet_parameters['changepoint_prior_scale'], seasonality_prior_scale = best_prophet_parameters['seasonality_prior_scale'], seasonality_mode = best_prophet_parameters['seasonality_mode'])\n",
    "    prophet_model.add_country_holidays(country_name = 'Germany')\n",
    "    for reg in exo_regressors:\n",
    "        prophet_model.add_regressor(reg)\n",
    "    prophet_model.fit(df_p)\n",
    "\n",
    "    # Future DF & Predictioncs\n",
    "    future = prophet_model.make_future_dataframe(periods = leng, include_history = False)\n",
    "    future[exo_regressors] = X_future[exo_regressors].to_numpy()\n",
    "    \n",
    "    fc_prophet = prophet_model.predict(future)['yhat'].to_numpy()\n",
    "    return fc_prophet"
   ]
  },
  {
   "cell_type": "markdown",
   "id": "91332688-f286-418e-b82a-33d91e523a3a",
   "metadata": {},
   "source": [
    "Similar to the ARIMA models, the validation data is only used to update the model parameters."
   ]
  },
  {
   "cell_type": "markdown",
   "id": "59e90224-2fbf-4f36-886c-3d9eece65fac",
   "metadata": {},
   "source": [
    "## Forecast Loop"
   ]
  },
  {
   "cell_type": "code",
   "execution_count": null,
   "id": "2630cf48-d03a-4b1f-ba11-13ee6addbdb2",
   "metadata": {},
   "outputs": [],
   "source": [
    "val_metrics = [] \n",
    "weights_list = []\n",
    "start = time.time()\n",
    "i = 0\n",
    "for ts_id in sample:\n",
    "    i += 1\n",
    "    #print('start:', time.strftime('%H:%M:%S', time.localtime()), 'ts_id:', ts_id, ', Count:',i )\n",
    "    y_train, y_train_log, X_train, X_val, X_test, training, validation, test, val_len, test_len,  = prepare_data(ts_id, df_train, df_val, df_test)\n",
    "   \n",
    "    #### Model Training and Validation ####\n",
    "\n",
    "    ## ARIMA Log    \n",
    "    model_log, pred_arima_log = arima_model(y_train_log.to_numpy(),X_train.to_numpy(),X_val.to_numpy(),val_len)\n",
    "    validation['fc_arima_log'] = np.where(X_val.close == 1, 0, np.exp(pred_arima_log))   \n",
    "    append_error_metric(val_metrics,ts_id,\"ARIMA_log\",validation,\"sales\",\"fc_arima_log\")\n",
    "    \n",
    "    ## ARIMA Raw\n",
    "    model_raw, pred_arima_raw = arima_model(y_train.to_numpy(),X_train.to_numpy(),X_val.to_numpy(),val_len)\n",
    "    validation['fc_arima_raw'] = np.where(X_val.close == 1, 0, pred_arima_raw)   \n",
    "    append_error_metric(val_metrics,ts_id,\"ARIMA_raw\",validation,\"sales\",\"fc_arima_raw\")\n",
    "\n",
    "    ## Prophet\n",
    "    exo_cols = X_train.columns.tolist()\n",
    "    df_p = training.rename(columns={'date':'ds','sales':'y'}).copy()\n",
    "    final_cols = ['ds', 'y'] + exo_cols\n",
    "    df_p = df_p[final_cols]\n",
    "\n",
    "    best_prophet_parameters = prophet_model(df_p = df_p, cps_list = cps_list, sps_list = sps_list, season_list = season_list, exo_regressors = exo_cols, initial_days = '540 days')\n",
    "    fc_prophet_val = prophet_fit(df_p = df_p, best_prophet_parameters = best_prophet_parameters,  X_future = X_val, exo_regressors = exo_cols, df_out = validation, target_col = 'fc_prophet', leng = val_len)\n",
    "    validation['fc_prophet'] = np.where(X_val.close == 1, 0, fc_prophet_val)\n",
    "    append_error_metric(val_metrics,ts_id,\"Prophet\",validation,\"sales\",\"fc_prophet\")\n",
    "\n",
    "    #### Update Model Parameters & Forecasts ####\n",
    "    mask = df_test[\"store\"] == ts_id\n",
    "\n",
    "    ## Naive Forecast\n",
    "    naive_fc(y_train = validation.sales.to_numpy(), df_out = df_test, target_col = 'fc_naive', leng = test_len, mask = mask)\n",
    "    \n",
    "    ## Arima\n",
    "    arima_fc(model_log, y_val = validation.log_sales.to_numpy(), X_val = X_val.to_numpy(), X_test = X_test.to_numpy(),df_out = df_test, target_col = 'fc_arima_log', leng = test_len, mask = mask, logs = True)\n",
    "    arima_fc(model_raw, y_val = validation.sales.to_numpy(), X_val = X_val.to_numpy(), X_test = X_test.to_numpy(),df_out = df_test, target_col = 'fc_arima_raw', leng = test_len, mask = mask, logs = False)\n",
    "\n",
    "    ## Prophet\n",
    "    X_full = pd.concat([X_train, X_val], ignore_index=True)   \n",
    "    df_p_full = pd.concat([training, validation], ignore_index=True).rename(columns={'date':'ds', 'sales':'y'})\n",
    "    final_cols = ['ds', 'y'] + exo_cols\n",
    "    df_p_full = df_p_full[final_cols]\n",
    "    \n",
    "    fc_prophet_test = prophet_fit(df_p = df_p_full, best_prophet_parameters = best_prophet_parameters,  X_future = X_test, exo_regressors = exo_cols, df_out = df_test, target_col = 'fc_prophet',leng = test_len)\n",
    "    df_test.loc[mask,'fc_prophet'] = fc_prophet_test\n",
    "    \n",
    "    ## Set Forecasts to zero if closed\n",
    "    cols = ['fc_naive','fc_prophet','fc_arima_raw','fc_arima_log']\n",
    "    closed_mask = (df_test['store'].eq(ts_id)) & (df_test['close'].eq(1))\n",
    "    df_test.loc[closed_mask, cols] = 0\n",
    "\n",
    "    #### Ensemble ####\n",
    "\n",
    "    error_val = 'error_val'\n",
    "    ensemble_weights = pd.DataFrame(val_metrics).query(\"store == @ts_id\").assign( # and model != 'Naive'\n",
    "             score=lambda df: 1/(df[error_val] + 1e-9),\n",
    "             weight=lambda df: df['score']/df['score'].sum())\n",
    "    \n",
    "    weights = ensemble_weights.set_index('model')['weight'].to_dict()\n",
    "\n",
    "    df_test.loc[mask, \"fc_ensemble\"] = weights['Prophet'] * df_test.loc[mask,'fc_prophet'] + weights['ARIMA_raw'] * df_test.loc[mask,'fc_arima_raw'] + weights['ARIMA_log'] * df_test.loc[mask,'fc_arima_log']\n",
    "    weights['ts_id'] = ts_id\n",
    "    weights_list.append(weights)\n",
    "end = time.time()\n",
    "elapsed_minutes = round((end - start) / 60, 2)"
   ]
  },
  {
   "cell_type": "markdown",
   "id": "a148dbab-f224-4da7-83b2-f7e497dc7fae",
   "metadata": {},
   "source": [
    "# Forecast Evaluation"
   ]
  },
  {
   "cell_type": "code",
   "execution_count": null,
   "id": "9c2a9267-a994-4305-a205-dec50e818492",
   "metadata": {},
   "outputs": [],
   "source": [
    "elapsed_minutes"
   ]
  },
  {
   "cell_type": "code",
   "execution_count": 62,
   "id": "b2b24f6a-9ed9-463e-9618-c099b9cb9aa0",
   "metadata": {},
   "outputs": [],
   "source": [
    "# Only consider stores for which forecasts were made and business days\n",
    "forecasts = df_test.query('fc_naive.notna() & sales != 0').copy()"
   ]
  },
  {
   "cell_type": "code",
   "execution_count": null,
   "id": "8dd83c12-563a-443d-af3d-98b734e4b2a1",
   "metadata": {},
   "outputs": [],
   "source": [
    "results = forecasts.groupby('store').apply(\n",
    "    lambda df: pd.Series({\n",
    "        'fc_naive': mean_absolute_percentage_error(df['sales'], df['fc_naive']),\n",
    "        'fc_arima_log': mean_absolute_percentage_error(df['sales'], df['fc_arima_log']),\n",
    "        'fc_arima_raw': mean_absolute_percentage_error(df['sales'], df['fc_arima_raw']),\n",
    "        'fc_prophet': mean_absolute_percentage_error(df['sales'], df['fc_prophet']),\n",
    "        'fc_ensemble': mean_absolute_percentage_error(df['sales'], df['fc_ensemble']),\n",
    "    })\n",
    ").reset_index()"
   ]
  },
  {
   "cell_type": "code",
   "execution_count": null,
   "id": "bb75ed0a-b142-4cec-9fe8-3ca14fa46b79",
   "metadata": {},
   "outputs": [],
   "source": [
    "results[['fc_naive','fc_arima_log','fc_arima_raw','fc_prophet','fc_ensemble']].mean().sort_values()"
   ]
  },
  {
   "cell_type": "code",
   "execution_count": null,
   "id": "22fd4b30-c272-4fb8-8f54-84dcbdc38759",
   "metadata": {},
   "outputs": [],
   "source": []
  }
 ],
 "metadata": {
  "kernelspec": {
   "display_name": "Python 3 (ipykernel)",
   "language": "python",
   "name": "python3"
  },
  "language_info": {
   "codemirror_mode": {
    "name": "ipython",
    "version": 3
   },
   "file_extension": ".py",
   "mimetype": "text/x-python",
   "name": "python",
   "nbconvert_exporter": "python",
   "pygments_lexer": "ipython3",
   "version": "3.12.3"
  }
 },
 "nbformat": 4,
 "nbformat_minor": 5
}
