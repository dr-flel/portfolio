{
 "cells": [
  {
   "cell_type": "code",
   "execution_count": 1,
   "id": "7ed2b97e-b851-4b81-ac9f-428b2c26f66f",
   "metadata": {},
   "outputs": [],
   "source": [
    "import pandas as pd\n",
    "import numpy as np\n",
    "import matplotlib.pyplot as plt"
   ]
  },
  {
   "cell_type": "markdown",
   "id": "554a8e6f-3dfe-4fc0-8108-499412257a98",
   "metadata": {},
   "source": [
    "# Generalized Monty Hall Problem"
   ]
  },
  {
   "cell_type": "markdown",
   "id": "57593411-7659-471f-8c3f-8cc2e33e2c8f",
   "metadata": {},
   "source": [
    "## Problem Statement"
   ]
  },
  {
   "cell_type": "markdown",
   "id": "782c270c-af09-4a15-bb30-d5af6e11d0c4",
   "metadata": {},
   "source": [
    "This is a version of the famous “Monty Hallˮ problem. Context: Suppose you are in a contestant in a game show. In front of you, there\n",
    "are three identical doors. Behind one door is a new car. Behind the other two\n",
    "doors are goats. The game works like this:\n",
    "\n",
    "1. You pick one door.\n",
    "2. The game show host then opens a different door, revealing a goat. Hence,\n",
    "two doors remain closed: The one you chose, and the door not opened by\n",
    "the host.\n",
    "3. You are then given a second choice:\n",
    "\n",
    "    - Do you want to stick with your original door choice, or;\n",
    "    - Switch to the other, unopened door?"
   ]
  },
  {
   "cell_type": "markdown",
   "id": "77df24c2-b5a5-4efc-a397-4c7a84a81490",
   "metadata": {},
   "source": [
    "## Questions:"
   ]
  },
  {
   "cell_type": "markdown",
   "id": "10e1e347-b05a-4659-91f8-d8e9b443fbc9",
   "metadata": {},
   "source": [
    "1. Statistically, what is the best strategy? Please explain your reasoning.\n",
    "Assume that you prefer the new car to the goats.\n",
    "2. Suppose that I donʼt believe in mathematical arguments (even if they are\n",
    "correct), and only trust numerical experiments. Please code up a python\n",
    "script/notebook that simulates many iterations of this gameshow, to\n",
    "convince me that your answer is right. Please include comments.\n",
    "3. Can you think of a generalisation of this problem to a similar game show\n",
    "with four or more doors? Clearly define the rules of this game show, and\n",
    "explain an optimal strategy for it. Note: Here, you will get points for\n",
    "creativity."
   ]
  },
  {
   "cell_type": "markdown",
   "id": "711687ea-4d29-4bdb-9fee-61fdfec515f0",
   "metadata": {},
   "source": [
    "## 1. Question"
   ]
  },
  {
   "cell_type": "markdown",
   "id": "8ffa5514-d602-4398-84f0-afba5682210e",
   "metadata": {},
   "source": [
    "In addition to the assumptions stated in the problem, I will make another (crucial) assumption which is only implicitly stated: Monty knows behind which door the car is. "
   ]
  },
  {
   "cell_type": "markdown",
   "id": "94a97ec0-df3c-4f69-84c3-d4f250819e2c",
   "metadata": {},
   "source": [
    "After my initial random pick, Monty is forced to open a door with a goat and presents me with a choice: Pick again or stick with my initial choice. It appears that the odds of winning are now equal. But this is not true!\n",
    "\n",
    "There are two scenarios:<br>\n",
    "1. My inital choice was good (car, $p_{ex\\_ante\\_success} = 1/3$) <br> \n",
    "2. My inital choice was bad (goat, $p_{ex\\_ante\\_fail} = 2/3$)\n",
    "\n",
    "In the first case, I lose if I choose again. In the second scenario, Monty must open the door with the remaining goat, as per the rules. Hence, he indirectly reveals where the car is. Put differently, given that my first choice was bad, he tells me where the car is. I do not know if my first choice is good or bad. But since my first choice is correct only 33% of the time, I am statistically better off always choosing again as this gives me a 67% chance of winning!\n",
    "\n",
    "If Monty does not know where the car is, it does not matter if choose again. The oods of winning after Monty opens a door (with a goat) are $50:50$. "
   ]
  },
  {
   "cell_type": "markdown",
   "id": "bfcdc584-ca62-448e-bef2-4b41caf2e4f2",
   "metadata": {},
   "source": [
    "## 2. Question"
   ]
  },
  {
   "cell_type": "code",
   "execution_count": 7,
   "id": "1d16bf7c-8cf0-4b05-9fb9-f9977e26c0f9",
   "metadata": {},
   "outputs": [
    {
     "name": "stdout",
     "output_type": "stream",
     "text": [
      "Stick Winning Probability: 0.334\n",
      "Switch Winning Probability: 0.666\n"
     ]
    }
   ],
   "source": [
    "count_success_stick = 0\n",
    "count_success_switch = 0\n",
    "trials = 100000 # we play 100000 times\n",
    "n_doors = 3 # The simulation is such that it can be adjusted for more doors\n",
    "n_goats_revealed = 1 # The number of goats that Monty reveals\n",
    "for i in range(trials):\n",
    "    success = 0\n",
    "    car_placement = np.zeros(n_doors, dtype = int) # Create a numpy array with n_doors \"doors\" \n",
    "    car_placement[np.random.choice(n_doors)] = 1 # Put the car behind a random door\n",
    "    pick = np.random.choice(n_doors)  # Our random choice\n",
    "    \n",
    "    if car_placement[pick] == 1: # Check, if the initial choice is good\n",
    "        # Stick \n",
    "        success = 1\n",
    "        count_success_stick += success  \n",
    "    else: \n",
    "        # Switch \n",
    "        # One could argue that the below is a bit \"hacky\". In the real game, the car does not magically change its position. However, since we \n",
    "        # randomely pick again, it does numerically not matter that we also randomely replace the car. \n",
    "        new_car_placement = np.zeros(n_doors - n_goats_revealed - 1, dtype = int) # Recall that the space of choices has been reduced (we switched from our initial choice) and Monty reveals one goat.\n",
    "        # If Monty revealed two goats we could adjust this value ('n_goats_revealed = 2') to simulate a different modified game (Example 4, below).\n",
    "        new_car_placement[np.random.choice(n_doors - n_goats_revealed - 1)] = 1 \n",
    "        pick_again = np.random.choice(n_doors - n_goats_revealed - 1)\n",
    "        if new_car_placement[pick_again] == 1: # Check, if the final choice is good\n",
    "            success = 1\n",
    "            count_success_switch += success\n",
    "print(f\"Stick Winning Probability: {count_success_stick/trials:.3f}\")\n",
    "print(f\"Switch Winning Probability: {count_success_switch/trials:.3f}\")"
   ]
  },
  {
   "cell_type": "markdown",
   "id": "deec4e0d-658d-4506-b859-ae37fddbb062",
   "metadata": {},
   "source": [
    "# 3. Question"
   ]
  },
  {
   "cell_type": "markdown",
   "id": "f3d40576-178b-4cfe-9eb0-16f2663e248c",
   "metadata": {},
   "source": [
    "One could think of several variations of the game. Examples include:\n",
    "1. 4 doors (3 goats, 1 car), Monty is forced to reveal **one** goat after my initial choice. I subsequently make my final choice.\n",
    "2. 4 doors (2 goats, **2 cars**), Monty is forced to reveal one goat after my initial choice. I subsequently make my final choice.\n",
    "3. 4 doors (3 goats, 1 car), Monty is forced to reveal one goat after my initial choice. I subsequently make my **second choice**. Monty reveals again...\n",
    "4. 4 doors (3 goats, 1 car), Monty is forced to reveal **two** goats after my initial choice. I subsequently make my final choice.\n",
    "\n",
    "He never reveals the car.\n",
    "\n",
    "All cases can be extended to *n* doors with respective adjustments and combinations of the variations (e.g. $m$ revalations by Monty, $j$  cars, and $i$ rounds). In what follows, Ill briefly dig into the first case. "
   ]
  },
  {
   "cell_type": "markdown",
   "id": "81eb2eff-09b7-44ec-8c88-ff6ca26829f5",
   "metadata": {},
   "source": [
    "The optimal strategy remains the same. You always choose again after Monty reveals a goat. Here is why:"
   ]
  },
  {
   "cell_type": "markdown",
   "id": "882e4efa-797d-465e-8a4a-e844a69f81e5",
   "metadata": {},
   "source": [
    "$ p_{success\\_stay} = \\frac{1}{n} $ Random initial choice success probability\n",
    "\n",
    "$ p_{success\\_switch} = (1 - \\frac{1}{n}) * \\frac{1}{n-2}$  The first part reflects the probability of initially failing, the second part of winning after the final choice."
   ]
  },
  {
   "cell_type": "markdown",
   "id": "fdb4e801-e151-4828-950b-bf9a6e1398bd",
   "metadata": {},
   "source": [
    "We could prove analytically that $ p_{success\\_switch} \\ge p_{success\\_stay} $ is always true for $ n > 2 $. However, I choose to use a numerical example as this allows me to visualize the conclusion."
   ]
  },
  {
   "cell_type": "code",
   "execution_count": 13,
   "id": "a71db94f-fc39-4a13-be37-933e490bf071",
   "metadata": {},
   "outputs": [],
   "source": [
    "df = pd.DataFrame({'n_doors': range(3, 21)})"
   ]
  },
  {
   "cell_type": "code",
   "execution_count": 14,
   "id": "de781285-1f2a-45cc-9a07-fd7ed203a071",
   "metadata": {},
   "outputs": [],
   "source": [
    "df['p_stick'] = 1 / df.n_doors "
   ]
  },
  {
   "cell_type": "code",
   "execution_count": 15,
   "id": "b9f09411-698a-4333-949b-98d9172d6049",
   "metadata": {},
   "outputs": [],
   "source": [
    "df['p_switch'] = (1 - 1 / df.n_doors) * (1 / (df.n_doors - 2)) "
   ]
  },
  {
   "cell_type": "code",
   "execution_count": 16,
   "id": "5e4968b1-7ed7-41bc-9f1f-1ce7c8287ed8",
   "metadata": {},
   "outputs": [
    {
     "data": {
      "text/html": [
       "<div>\n",
       "<style scoped>\n",
       "    .dataframe tbody tr th:only-of-type {\n",
       "        vertical-align: middle;\n",
       "    }\n",
       "\n",
       "    .dataframe tbody tr th {\n",
       "        vertical-align: top;\n",
       "    }\n",
       "\n",
       "    .dataframe thead th {\n",
       "        text-align: right;\n",
       "    }\n",
       "</style>\n",
       "<table border=\"1\" class=\"dataframe\">\n",
       "  <thead>\n",
       "    <tr style=\"text-align: right;\">\n",
       "      <th></th>\n",
       "      <th>n_doors</th>\n",
       "      <th>p_stick</th>\n",
       "      <th>p_switch</th>\n",
       "    </tr>\n",
       "  </thead>\n",
       "  <tbody>\n",
       "    <tr>\n",
       "      <th>0</th>\n",
       "      <td>3</td>\n",
       "      <td>0.333333</td>\n",
       "      <td>0.666667</td>\n",
       "    </tr>\n",
       "    <tr>\n",
       "      <th>1</th>\n",
       "      <td>4</td>\n",
       "      <td>0.250000</td>\n",
       "      <td>0.375000</td>\n",
       "    </tr>\n",
       "    <tr>\n",
       "      <th>2</th>\n",
       "      <td>5</td>\n",
       "      <td>0.200000</td>\n",
       "      <td>0.266667</td>\n",
       "    </tr>\n",
       "  </tbody>\n",
       "</table>\n",
       "</div>"
      ],
      "text/plain": [
       "   n_doors   p_stick  p_switch\n",
       "0        3  0.333333  0.666667\n",
       "1        4  0.250000  0.375000\n",
       "2        5  0.200000  0.266667"
      ]
     },
     "execution_count": 16,
     "metadata": {},
     "output_type": "execute_result"
    }
   ],
   "source": [
    "df.head(3)"
   ]
  },
  {
   "cell_type": "code",
   "execution_count": 17,
   "id": "b2361f73-96c9-4c97-9e71-59bb1ac3c845",
   "metadata": {},
   "outputs": [
    {
     "data": {
      "image/png": "[encoded data removed]",
      "text/plain": [
       "<Figure size 640x480 with 1 Axes>"
      ]
     },
     "metadata": {},
     "output_type": "display_data"
    }
   ],
   "source": [
    "fig, ax = plt.subplots()\n",
    "\n",
    "# Plot the data\n",
    "ax.plot(df[\"n_doors\"], df[\"p_switch\"], marker='s', label=\"P(Switch)\")\n",
    "\n",
    "ax.plot(df[\"n_doors\"], df[\"p_stick\"], marker='o', label=\"P(Stick)\")\n",
    "\n",
    "# Labels and title\n",
    "ax.set_xlabel(\"Number of Doors\")\n",
    "ax.set_ylabel(\"Probability of Winning\")\n",
    "ax.set_title(\"Number of Doors and the Probability of Sticking vs Switching \")\n",
    "ax.set_xticks(df.n_doors)\n",
    "ax.legend()\n",
    "\n",
    "# Show the plot\n",
    "plt.show()\n"
   ]
  },
  {
   "cell_type": "code",
   "execution_count": 18,
   "id": "8602e051-3762-4dd2-b867-28c05fd9c768",
   "metadata": {},
   "outputs": [
    {
     "data": {
      "text/html": [
       "<div>\n",
       "<style scoped>\n",
       "    .dataframe tbody tr th:only-of-type {\n",
       "        vertical-align: middle;\n",
       "    }\n",
       "\n",
       "    .dataframe tbody tr th {\n",
       "        vertical-align: top;\n",
       "    }\n",
       "\n",
       "    .dataframe thead th {\n",
       "        text-align: right;\n",
       "    }\n",
       "</style>\n",
       "<table border=\"1\" class=\"dataframe\">\n",
       "  <thead>\n",
       "    <tr style=\"text-align: right;\">\n",
       "      <th></th>\n",
       "      <th>n_doors</th>\n",
       "      <th>p_stick</th>\n",
       "      <th>p_switch</th>\n",
       "    </tr>\n",
       "  </thead>\n",
       "  <tbody>\n",
       "    <tr>\n",
       "      <th>16</th>\n",
       "      <td>19</td>\n",
       "      <td>0.052632</td>\n",
       "      <td>0.055728</td>\n",
       "    </tr>\n",
       "    <tr>\n",
       "      <th>17</th>\n",
       "      <td>20</td>\n",
       "      <td>0.050000</td>\n",
       "      <td>0.052778</td>\n",
       "    </tr>\n",
       "  </tbody>\n",
       "</table>\n",
       "</div>"
      ],
      "text/plain": [
       "    n_doors   p_stick  p_switch\n",
       "16       19  0.052632  0.055728\n",
       "17       20  0.050000  0.052778"
      ]
     },
     "execution_count": 18,
     "metadata": {},
     "output_type": "execute_result"
    }
   ],
   "source": [
    "df.tail(2)"
   ]
  },
  {
   "cell_type": "markdown",
   "id": "fa77fd48-dc23-4065-8e07-3fd349a3a3f1",
   "metadata": {},
   "source": [
    "Unsurprsingly, we observe that the probability of winning decreases in the number of doors. Furthermore, we see that the difference becomes smaller. The intuitive reason is that the chances of picking correctly after one goat has been revealed becomes smaller and smaller, as there are still many goats ($n-2$ remains \"large\"). \n",
    "\n",
    "Feel free to adjust n_doors or the n_goats_revealed in the simulation!"
   ]
  },
  {
   "cell_type": "code",
   "execution_count": null,
   "id": "606bc849-cdf2-4800-aa09-90ea34eb29ef",
   "metadata": {},
   "outputs": [],
   "source": []
  }
 ],
 "metadata": {
  "kernelspec": {
   "display_name": "Python 3 (ipykernel)",
   "language": "python",
   "name": "python3"
  },
  "language_info": {
   "codemirror_mode": {
    "name": "ipython",
    "version": 3
   },
   "file_extension": ".py",
   "mimetype": "text/x-python",
   "name": "python",
   "nbconvert_exporter": "python",
   "pygments_lexer": "ipython3",
   "version": "3.12.3"
  }
 },
 "nbformat": 4,
 "nbformat_minor": 5
}
