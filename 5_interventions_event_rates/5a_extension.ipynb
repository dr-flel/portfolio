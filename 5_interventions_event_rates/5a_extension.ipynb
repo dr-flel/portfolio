{
 "cells": [
  {
   "cell_type": "code",
   "execution_count": 1,
   "id": "51f6a5d6-87f9-47c4-8edf-49d968d2dade",
   "metadata": {},
   "outputs": [],
   "source": [
    "import numpy as np\n",
    "import statsmodels.api as sm\n",
    "import statsmodels.formula.api as smf, statsmodels.api as sm\n",
    "import datetime\n",
    "from scipy.optimize import minimize\n",
    "import matplotlib.pyplot as plt\n",
    "import pandas as pd\n",
    "pd.set_option('display.float_format', '{:,.4f}'.format)"
   ]
  },
  {
   "cell_type": "markdown",
   "id": "091746f3-3263-4f87-a654-dbcd73022bb1",
   "metadata": {},
   "source": [
    "<p style=\"font-size:2em; font-weight:400; margin:.2em 0;\">Introduction</p>"
   ]
  },
  {
   "cell_type": "markdown",
   "id": "4f9af50c-c7df-4e39-8e40-ea61a7c21178",
   "metadata": {},
   "source": [
    "The objective of this Notebook is to demonstrate a concept to solve a case similar to the EDUVISTA case in the main exercise in this repo. That is, we want to estimate the effects of interventions on the event rate. However, we relax a strong key assumption of the previous exercise. In this notebook, intervention effects decay at an unknown rate $\\rho$, i.e. we assume a geometric decay. The parameter space for $\\rho$ includes $1$ so the model nests a world with no decay.\n",
    "\n",
    "The idea is to employ a state space stock formulation where the latent effect stock $s$ for cross section $i$ at time $t$ evolves recursively\n",
    "\n",
    "$$s_{i,t} = \\rho s_{i,t-1} + x_{i,t}, $$\n",
    "\n",
    "where $x$ is an intervention. The latent stock replaces the cumulative sum of interventions in the familiar Poisson regression problem with a cross section fixed effect $\\alpha_i$:\n",
    "\n",
    "$$log\\ \\lambda_{i,t} = \\alpha_i + \\beta s_{i,t}$$\n",
    "\n",
    "We wish to estimate $\\rho$, $\\alpha_i$, and $\\beta$, the coefficient of interest that captures intervention efficiency. This is achieved by a profile likelihood nested MLE approach. For each candidate $\\rho$, we recompute the state via the recursion and fit a Poisson GLM that maximizes the log likelihood over the regression coefficients conditional on that value of $\\rho$. The value that maximizes the profile log likelihood is our estimate of $\\rho$. The regression coefficients are then taken at the estimated decay parameter. To obtain robust standard errors for all parameters, we subsequently use a bootstrap approach.\n",
    "\n",
    "We still rely on the assumption of immediate intervention effects. However, the method can be extended to allow for an onset delay. An alternative to the state space approach is a distributed lag model which contains lags of interventions and estimates their coefficients. That is fairly flexible with no assumptions on the shape of the decay but comes at the cost of potentially many parameters and multicollinearity across lags.\n",
    "\n",
    "In the first section, we generate data that replicate the essential case of the main exercise with the exception of decaying interventions. For convenience we use one intervention. The baseline model uses the true unobserved decay parameter and we estimate only the intervention effect in order to obtain a benchmark for the profile likelihood estimates. In the last section, we employ a bootstrap approach to derive robust standard errors for all parameters."
   ]
  },
  {
   "cell_type": "markdown",
   "id": "3b3b1b72-b536-4aa5-8262-af4af64ba8ff",
   "metadata": {},
   "source": [
    "# Data Generation"
   ]
  },
  {
   "cell_type": "markdown",
   "id": "c4cbd7d7-0c43-4da7-b115-87fcf43f526e",
   "metadata": {},
   "source": [
    "Let us generate some data for the interventions and events. "
   ]
  },
  {
   "cell_type": "code",
   "execution_count": 2,
   "id": "987a1a8c-2355-425c-8a64-a991da232dff",
   "metadata": {},
   "outputs": [],
   "source": [
    "np.random.seed(42)"
   ]
  },
  {
   "cell_type": "code",
   "execution_count": 3,
   "id": "104adcaa-2d70-4545-a1cd-376d38a214b7",
   "metadata": {},
   "outputs": [],
   "source": [
    "T = 200 # Time periods\n",
    "n = 100 # Cross sections"
   ]
  },
  {
   "cell_type": "code",
   "execution_count": 4,
   "id": "3b287061-ea69-48fc-931c-fb94422cd8a3",
   "metadata": {},
   "outputs": [],
   "source": [
    "# Interventions\n",
    "lambda_day = 2 / T # Roughly 7 interventions per year\n",
    "interventions = np.zeros((n, T), dtype=int)"
   ]
  },
  {
   "cell_type": "code",
   "execution_count": 5,
   "id": "7107a599-fc15-43ec-a86a-987c9b8f2b81",
   "metadata": {},
   "outputs": [],
   "source": [
    "for i in range(n):\n",
    "    int_per_school = np.random.poisson(lam=lambda_day * T)\n",
    "    int_per_school = min(int_per_school, T)\n",
    "    days = np.random.choice(T, size=int_per_school, replace=False)\n",
    "    interventions[i, days] = 1"
   ]
  },
  {
   "cell_type": "code",
   "execution_count": 6,
   "id": "7adebb30-8311-4890-bbb6-a8e31102e9f2",
   "metadata": {},
   "outputs": [],
   "source": [
    "# Intervention decay\n",
    "rho_true = .9"
   ]
  },
  {
   "cell_type": "code",
   "execution_count": 7,
   "id": "17118c5b-86d2-4f48-bd52-1287f2a5396a",
   "metadata": {},
   "outputs": [],
   "source": [
    "baseline_rate = np.log(0.04) # baseline rate\n",
    "beta_true = np.log(2) # double the effect after the innovation\n",
    "school_shift = np.random.uniform(-0.015, 0.015, size=n) # school speific rate"
   ]
  },
  {
   "cell_type": "code",
   "execution_count": 8,
   "id": "f726a8c0-d6b5-4c9f-a579-a2e5eeb21273",
   "metadata": {},
   "outputs": [],
   "source": [
    "def state_value_fct(interventions, rho, s_initial=0):\n",
    "    n, T = interventions.shape\n",
    "    state_value = np.zeros((n, T))\n",
    "    state = np.full(n, s_initial)\n",
    "    interventions = interventions.astype(float)\n",
    "    \n",
    "    for t in range(T):\n",
    "        state = rho * state + interventions[:, t]\n",
    "        state_value[:, t] = state\n",
    "    return state_value"
   ]
  },
  {
   "cell_type": "code",
   "execution_count": 9,
   "id": "e586156a-21dc-45d3-b181-30b6b3cd824a",
   "metadata": {},
   "outputs": [],
   "source": [
    "# Simulate intervention state\n",
    "s_sim = state_value_fct(interventions,rho_true)"
   ]
  },
  {
   "cell_type": "code",
   "execution_count": 10,
   "id": "2d86f6c9-54e0-4f19-8428-2f469677fdd4",
   "metadata": {},
   "outputs": [],
   "source": [
    "# event rate\n",
    "daily_lambda = np.exp(baseline_rate + school_shift[:, None] + beta_true * s_sim)"
   ]
  },
  {
   "cell_type": "code",
   "execution_count": 11,
   "id": "02c8032d-529c-4a5f-9fac-7faac0362b88",
   "metadata": {},
   "outputs": [],
   "source": [
    "# Add some noise to the event rate\n",
    "sigma_lambda = 0.06  \n",
    "daily_lambda_tilde = daily_lambda * np.exp(np.random.normal(0, sigma_lambda, size=daily_lambda.shape))"
   ]
  },
  {
   "cell_type": "code",
   "execution_count": 12,
   "id": "15bf3ded-bd1e-4013-9f75-67b470ea846d",
   "metadata": {},
   "outputs": [],
   "source": [
    "# Generate events\n",
    "y = np.random.poisson(lam=daily_lambda_tilde)"
   ]
  },
  {
   "cell_type": "markdown",
   "id": "0c23fbf6-58c8-4322-a9a0-63d71bfdf4ff",
   "metadata": {},
   "source": [
    "# Baseline Estimation (True Decay Parameter)"
   ]
  },
  {
   "cell_type": "markdown",
   "id": "16949af6-79a1-4a92-a44c-c2557916dd4c",
   "metadata": {},
   "source": [
    "First, we fit a baseline Poisson model based on the true decay parameter which is, in reality, unknown."
   ]
  },
  {
   "cell_type": "code",
   "execution_count": 13,
   "id": "7ee90fda-f526-44b5-83af-8152c50120e1",
   "metadata": {},
   "outputs": [],
   "source": [
    "school_ids = np.arange(n)\n",
    "days = np.arange(T)"
   ]
  },
  {
   "cell_type": "code",
   "execution_count": 14,
   "id": "eea05355-51d4-49aa-adef-fa494e91812e",
   "metadata": {},
   "outputs": [],
   "source": [
    "df = pd.DataFrame({\n",
    "    \"y\": y.ravel(),\n",
    "    \"t\": np.tile(np.arange(T), n),\n",
    "    \"school_id\": np.repeat(school_ids, T),\n",
    "    \"intervention_state\": s_sim.ravel()\n",
    "    })"
   ]
  },
  {
   "cell_type": "code",
   "execution_count": 15,
   "id": "c948a6fe-59f7-4cc0-9b69-30c547855d11",
   "metadata": {},
   "outputs": [],
   "source": [
    "df = df.sort_values([\"school_id\", \"t\"], kind=\"mergesort\").reset_index(drop=True)"
   ]
  },
  {
   "cell_type": "code",
   "execution_count": 16,
   "id": "711825c3-21a3-494e-8da7-da1f4a2a6d6b",
   "metadata": {},
   "outputs": [],
   "source": [
    "df.y  = df.y.astype(int)"
   ]
  },
  {
   "cell_type": "code",
   "execution_count": 17,
   "id": "5b6eede0-f08e-4394-93bd-fabeb4c09f5e",
   "metadata": {},
   "outputs": [
    {
     "data": {
      "text/html": [
       "<div>\n",
       "<style scoped>\n",
       "    .dataframe tbody tr th:only-of-type {\n",
       "        vertical-align: middle;\n",
       "    }\n",
       "\n",
       "    .dataframe tbody tr th {\n",
       "        vertical-align: top;\n",
       "    }\n",
       "\n",
       "    .dataframe thead th {\n",
       "        text-align: right;\n",
       "    }\n",
       "</style>\n",
       "<table border=\"1\" class=\"dataframe\">\n",
       "  <thead>\n",
       "    <tr style=\"text-align: right;\">\n",
       "      <th></th>\n",
       "      <th>y</th>\n",
       "      <th>t</th>\n",
       "      <th>school_id</th>\n",
       "      <th>intervention_state</th>\n",
       "    </tr>\n",
       "  </thead>\n",
       "  <tbody>\n",
       "    <tr>\n",
       "      <th>0</th>\n",
       "      <td>0</td>\n",
       "      <td>0</td>\n",
       "      <td>0</td>\n",
       "      <td>0.0000</td>\n",
       "    </tr>\n",
       "    <tr>\n",
       "      <th>1</th>\n",
       "      <td>0</td>\n",
       "      <td>1</td>\n",
       "      <td>0</td>\n",
       "      <td>0.0000</td>\n",
       "    </tr>\n",
       "  </tbody>\n",
       "</table>\n",
       "</div>"
      ],
      "text/plain": [
       "   y  t  school_id  intervention_state\n",
       "0  0  0          0              0.0000\n",
       "1  0  1          0              0.0000"
      ]
     },
     "execution_count": 17,
     "metadata": {},
     "output_type": "execute_result"
    }
   ],
   "source": [
    "df.head(2)"
   ]
  },
  {
   "cell_type": "code",
   "execution_count": 18,
   "id": "03509f39-3928-4575-b844-fb18d8ef511b",
   "metadata": {},
   "outputs": [],
   "source": [
    "formula_base = 'y ~ intervention_state + C(school_id)'"
   ]
  },
  {
   "cell_type": "code",
   "execution_count": 19,
   "id": "778cc99c-2bbe-41ee-a992-08a0aa586bda",
   "metadata": {
    "scrolled": true
   },
   "outputs": [],
   "source": [
    "model = smf.glm(formula=formula_base,data=df,family=sm.families.Poisson()).fit(cov_type='cluster', cov_kwds={'groups': df['school_id']})"
   ]
  },
  {
   "cell_type": "code",
   "execution_count": 20,
   "id": "c73c9db9-e7f6-4e16-8b6b-5d85b3d50adf",
   "metadata": {},
   "outputs": [],
   "source": [
    "mask = ~model.params.index.str.contains(r\"C\\(school_id\\)\")"
   ]
  },
  {
   "cell_type": "code",
   "execution_count": 21,
   "id": "2c8c108d-3e40-4227-8574-436c081b6cd6",
   "metadata": {},
   "outputs": [],
   "source": [
    "idx = model.params[mask].index.intersection(model.conf_int().index)"
   ]
  },
  {
   "cell_type": "code",
   "execution_count": 22,
   "id": "47d17423-21ad-4357-b81c-79027175421b",
   "metadata": {},
   "outputs": [],
   "source": [
    "coefs = model.params.loc[idx]\n",
    "pvals = model.pvalues.loc[idx]\n",
    "conf = model.conf_int().loc[idx]\n",
    "irr     = np.exp(coefs)\n",
    "irr_ci  = np.exp(conf)"
   ]
  },
  {
   "cell_type": "code",
   "execution_count": 23,
   "id": "5ab00a6e-2425-4f5c-bbaa-379a15632511",
   "metadata": {},
   "outputs": [],
   "source": [
    "df_baseline = pd.DataFrame({\n",
    "    \"coef\": coefs,\n",
    "    \"pval\": pvals,\n",
    "    \"ci_lower\": conf[0],\n",
    "    \"ci_upper\": conf[1],\n",
    "    \"IRR\": irr,\n",
    "    \"IRR_ci_lower\": irr_ci[0],\n",
    "    \"IRR_ci_upper\": irr_ci[1],\n",
    "})"
   ]
  },
  {
   "cell_type": "code",
   "execution_count": 24,
   "id": "4da58337-3f6f-483a-ae00-128f1018dbee",
   "metadata": {
    "scrolled": true
   },
   "outputs": [
    {
     "data": {
      "text/html": [
       "<div>\n",
       "<style scoped>\n",
       "    .dataframe tbody tr th:only-of-type {\n",
       "        vertical-align: middle;\n",
       "    }\n",
       "\n",
       "    .dataframe tbody tr th {\n",
       "        vertical-align: top;\n",
       "    }\n",
       "\n",
       "    .dataframe thead th {\n",
       "        text-align: right;\n",
       "    }\n",
       "</style>\n",
       "<table border=\"1\" class=\"dataframe\">\n",
       "  <thead>\n",
       "    <tr style=\"text-align: right;\">\n",
       "      <th></th>\n",
       "      <th>coef</th>\n",
       "      <th>pval</th>\n",
       "      <th>ci_lower</th>\n",
       "      <th>ci_upper</th>\n",
       "      <th>IRR</th>\n",
       "      <th>IRR_ci_lower</th>\n",
       "      <th>IRR_ci_upper</th>\n",
       "    </tr>\n",
       "  </thead>\n",
       "  <tbody>\n",
       "    <tr>\n",
       "      <th>Intercept</th>\n",
       "      <td>-2.5731</td>\n",
       "      <td>0.0000</td>\n",
       "      <td>-2.6257</td>\n",
       "      <td>-2.5204</td>\n",
       "      <td>0.0763</td>\n",
       "      <td>0.0724</td>\n",
       "      <td>0.0804</td>\n",
       "    </tr>\n",
       "    <tr>\n",
       "      <th>intervention_state</th>\n",
       "      <td>0.6221</td>\n",
       "      <td>0.0000</td>\n",
       "      <td>0.3547</td>\n",
       "      <td>0.8895</td>\n",
       "      <td>1.8629</td>\n",
       "      <td>1.4258</td>\n",
       "      <td>2.4339</td>\n",
       "    </tr>\n",
       "  </tbody>\n",
       "</table>\n",
       "</div>"
      ],
      "text/plain": [
       "                      coef   pval  ci_lower  ci_upper    IRR  IRR_ci_lower  \\\n",
       "Intercept          -2.5731 0.0000   -2.6257   -2.5204 0.0763        0.0724   \n",
       "intervention_state  0.6221 0.0000    0.3547    0.8895 1.8629        1.4258   \n",
       "\n",
       "                    IRR_ci_upper  \n",
       "Intercept                 0.0804  \n",
       "intervention_state        2.4339  "
      ]
     },
     "execution_count": 24,
     "metadata": {},
     "output_type": "execute_result"
    }
   ],
   "source": [
    "df_baseline"
   ]
  },
  {
   "cell_type": "markdown",
   "id": "d29f7dc9-8a50-4a16-9d13-d597f40c1803",
   "metadata": {},
   "source": [
    "**Interpretation**"
   ]
  },
  {
   "cell_type": "markdown",
   "id": "fb91db65-2629-4091-b898-beddb287174e",
   "metadata": {},
   "source": [
    "Intercept: baseline expected count per day"
   ]
  },
  {
   "cell_type": "code",
   "execution_count": 25,
   "id": "2892a7fc-7e92-4f5a-aece-9b7f710f25ed",
   "metadata": {},
   "outputs": [
    {
     "data": {
      "text/plain": [
       "0.076"
      ]
     },
     "execution_count": 25,
     "metadata": {},
     "output_type": "execute_result"
    }
   ],
   "source": [
    "np.round(np.exp(model.params.iloc[0]),3)"
   ]
  },
  {
   "cell_type": "markdown",
   "id": "174fa03c-a3bb-4227-aedf-e1a221cce662",
   "metadata": {},
   "source": [
    "Intervention_state: a one-unit increase in the state (an additional intervention) multiplies the expected count in that period by the IRR (instantaneous effect). For a one-off intervention, the effect on later periods decays geometrically at rate $\\rho$. The half-life (periods until the effect halves) is:"
   ]
  },
  {
   "cell_type": "code",
   "execution_count": 26,
   "id": "2bb4b84b-532a-46fa-9773-7e94be2bc511",
   "metadata": {},
   "outputs": [
    {
     "name": "stdout",
     "output_type": "stream",
     "text": [
      "Half-life: 6.58\n"
     ]
    }
   ],
   "source": [
    "if rho_true < 1:\n",
    "    half_life = np.round(np.log(0.5) / np.log(rho_true), 2)\n",
    "    print(\"Half-life:\", half_life)\n",
    "else:\n",
    "    print('Interventions do not decay and thus, have no half-life')"
   ]
  },
  {
   "cell_type": "markdown",
   "id": "b85c7bd6-0b6a-4ba5-a960-f98bfd36745f",
   "metadata": {},
   "source": [
    "# Profile-likelihood MLE for Intervention Effects and Decay"
   ]
  },
  {
   "cell_type": "markdown",
   "id": "5869a9ac-0afc-4c33-b45f-57b48f055ffb",
   "metadata": {},
   "source": [
    "In the previous section I estimated intervention effects assuming a known decay parameter $\\rho$. In practice the parameter is unknown, so I use a profile-likelihood MLE as described above. "
   ]
  },
  {
   "cell_type": "code",
   "execution_count": 27,
   "id": "3fb44828-dc86-427c-af7e-655ae24a4ae6",
   "metadata": {},
   "outputs": [],
   "source": [
    "def poisson_reg_joint(p,df,interventions, formula):\n",
    "    rho = float(p[0])     \n",
    "    state_values = state_value_fct(interventions, rho)\n",
    "    df_tmp = df.copy()\n",
    "    df_tmp['intervention_state'] = state_values.ravel()  \n",
    "    fit = smf.glm(formula=formula, data=df_tmp, family=sm.families.Poisson()).fit() # Notice that there are no robust SE in this specification. \n",
    "    return -fit.llf # negative likelihood value"
   ]
  },
  {
   "cell_type": "code",
   "execution_count": 28,
   "id": "1313e1a0-9c55-4288-bd6b-5ff692267168",
   "metadata": {},
   "outputs": [],
   "source": [
    "rho_initial = 0.7\n",
    "initial_val = np.array([rho_initial]) "
   ]
  },
  {
   "cell_type": "code",
   "execution_count": 29,
   "id": "f978cac9-a5de-445e-b684-300e27950be0",
   "metadata": {},
   "outputs": [],
   "source": [
    "opt = minimize(poisson_reg_joint, x0 = initial_val, args=(df, interventions,formula_base),  bounds=[(0.2, 1)], method=\"L-BFGS-B\") "
   ]
  },
  {
   "cell_type": "code",
   "execution_count": 30,
   "id": "fe6a7ae3-daaa-4ac5-8d94-615710031273",
   "metadata": {},
   "outputs": [],
   "source": [
    "rho_hat = float(opt.x[0])"
   ]
  },
  {
   "cell_type": "code",
   "execution_count": 31,
   "id": "95f4f8c8-8470-4f10-ab31-4671dced890f",
   "metadata": {},
   "outputs": [
    {
     "data": {
      "text/plain": [
       "0.7921897413275177"
      ]
     },
     "execution_count": 31,
     "metadata": {},
     "output_type": "execute_result"
    }
   ],
   "source": [
    "rho_hat"
   ]
  },
  {
   "cell_type": "markdown",
   "id": "29e0d21c-a885-4e9d-b3a8-dfe34fa31d6b",
   "metadata": {},
   "source": [
    "**Compute state values and estimated intervention coefficients based on the estimated decay coefficient (rho)**"
   ]
  },
  {
   "cell_type": "code",
   "execution_count": 32,
   "id": "fc0c26c0-9a54-472a-90cb-ca4d4038f100",
   "metadata": {},
   "outputs": [],
   "source": [
    "s_sim_hat = state_value_fct(interventions, rho_hat, 0) # the state based on the the estimated rho\n",
    "df_hat = df.copy()\n",
    "df_hat[\"intervention_state\"] = s_sim_hat.ravel()"
   ]
  },
  {
   "cell_type": "code",
   "execution_count": 33,
   "id": "40c2c470-e744-42d3-bcb5-ee66252ea64e",
   "metadata": {},
   "outputs": [],
   "source": [
    "fit_joint = smf.glm(formula=formula_base, data=df_hat,\n",
    "             family=sm.families.Poisson()).fit()"
   ]
  },
  {
   "cell_type": "code",
   "execution_count": 34,
   "id": "5cf89472-24fd-404f-aaa3-7087dea56de6",
   "metadata": {},
   "outputs": [],
   "source": [
    "mask = ~fit_joint.params.index.str.contains(r\"C\\(school_id\\)\")"
   ]
  },
  {
   "cell_type": "code",
   "execution_count": 35,
   "id": "2987b8d8-7ae7-46c0-8f13-62516032d232",
   "metadata": {},
   "outputs": [],
   "source": [
    "idx = fit_joint.params[mask].index.intersection(fit_joint.conf_int().index)"
   ]
  },
  {
   "cell_type": "code",
   "execution_count": 36,
   "id": "fb210caf-536f-4f2b-ae19-c9e4adef94d9",
   "metadata": {},
   "outputs": [],
   "source": [
    "coefs = fit_joint.params.loc[idx]\n",
    "pvals = fit_joint.pvalues.loc[idx]\n",
    "conf = fit_joint.conf_int().loc[idx]\n",
    "irr     = np.exp(coefs)\n",
    "irr_ci  = np.exp(conf)"
   ]
  },
  {
   "cell_type": "code",
   "execution_count": 37,
   "id": "0089bc40-b843-409a-a9dd-ecb9e52f8b64",
   "metadata": {},
   "outputs": [],
   "source": [
    "df_joint = pd.DataFrame({\n",
    "    \"coef\": coefs,\n",
    "    \"pval\": pvals,\n",
    "    \"ci_lower\": conf[0],\n",
    "    \"ci_upper\": conf[1],\n",
    "    \"IRR\": irr,\n",
    "    \"IRR_ci_lower\": irr_ci[0],\n",
    "    \"IRR_ci_upper\": irr_ci[1],\n",
    "})"
   ]
  },
  {
   "cell_type": "code",
   "execution_count": 38,
   "id": "fb0abb9d-01f4-4f44-a74f-3fc0974d3993",
   "metadata": {},
   "outputs": [
    {
     "data": {
      "text/plain": [
       "(0.792, 0.9)"
      ]
     },
     "execution_count": 38,
     "metadata": {},
     "output_type": "execute_result"
    }
   ],
   "source": [
    "np.round(rho_hat,3), rho_true"
   ]
  },
  {
   "cell_type": "code",
   "execution_count": 39,
   "id": "394704bf-c455-43d4-b457-d76d54f8c142",
   "metadata": {},
   "outputs": [
    {
     "data": {
      "text/html": [
       "<div>\n",
       "<style scoped>\n",
       "    .dataframe tbody tr th:only-of-type {\n",
       "        vertical-align: middle;\n",
       "    }\n",
       "\n",
       "    .dataframe tbody tr th {\n",
       "        vertical-align: top;\n",
       "    }\n",
       "\n",
       "    .dataframe thead th {\n",
       "        text-align: right;\n",
       "    }\n",
       "</style>\n",
       "<table border=\"1\" class=\"dataframe\">\n",
       "  <thead>\n",
       "    <tr style=\"text-align: right;\">\n",
       "      <th></th>\n",
       "      <th>coef</th>\n",
       "      <th>pval</th>\n",
       "    </tr>\n",
       "  </thead>\n",
       "  <tbody>\n",
       "    <tr>\n",
       "      <th>Intercept</th>\n",
       "      <td>-2.5731</td>\n",
       "      <td>0.0000</td>\n",
       "    </tr>\n",
       "    <tr>\n",
       "      <th>intervention_state</th>\n",
       "      <td>0.6221</td>\n",
       "      <td>0.0000</td>\n",
       "    </tr>\n",
       "  </tbody>\n",
       "</table>\n",
       "</div>"
      ],
      "text/plain": [
       "                      coef   pval\n",
       "Intercept          -2.5731 0.0000\n",
       "intervention_state  0.6221 0.0000"
      ]
     },
     "execution_count": 39,
     "metadata": {},
     "output_type": "execute_result"
    }
   ],
   "source": [
    "df_baseline[['coef','pval']]"
   ]
  },
  {
   "cell_type": "code",
   "execution_count": 40,
   "id": "a30c4185-42b0-495f-a257-e31abb1bf989",
   "metadata": {},
   "outputs": [
    {
     "data": {
      "text/html": [
       "<div>\n",
       "<style scoped>\n",
       "    .dataframe tbody tr th:only-of-type {\n",
       "        vertical-align: middle;\n",
       "    }\n",
       "\n",
       "    .dataframe tbody tr th {\n",
       "        vertical-align: top;\n",
       "    }\n",
       "\n",
       "    .dataframe thead th {\n",
       "        text-align: right;\n",
       "    }\n",
       "</style>\n",
       "<table border=\"1\" class=\"dataframe\">\n",
       "  <thead>\n",
       "    <tr style=\"text-align: right;\">\n",
       "      <th></th>\n",
       "      <th>coef</th>\n",
       "      <th>pval</th>\n",
       "    </tr>\n",
       "  </thead>\n",
       "  <tbody>\n",
       "    <tr>\n",
       "      <th>Intercept</th>\n",
       "      <td>-2.5479</td>\n",
       "      <td>0.0000</td>\n",
       "    </tr>\n",
       "    <tr>\n",
       "      <th>intervention_state</th>\n",
       "      <td>0.8505</td>\n",
       "      <td>0.0000</td>\n",
       "    </tr>\n",
       "  </tbody>\n",
       "</table>\n",
       "</div>"
      ],
      "text/plain": [
       "                      coef   pval\n",
       "Intercept          -2.5479 0.0000\n",
       "intervention_state  0.8505 0.0000"
      ]
     },
     "execution_count": 40,
     "metadata": {},
     "output_type": "execute_result"
    }
   ],
   "source": [
    "df_joint[['coef','pval']]"
   ]
  },
  {
   "cell_type": "markdown",
   "id": "10af9a35-4568-4ba9-a210-b544dec696ae",
   "metadata": {},
   "source": [
    "Let us focus on the comparison of both tables. We expect a larger interventions coefficient if the estimated value for $\\rho$ is smaller than the true value because a lower $\\rho$ makes the constructed state less persistent (smaller on average), so the model compensates by increasing the coefficient on the state; conversely, overestimating $\\rho$ leads to a smaller intervention coefficient."
   ]
  },
  {
   "cell_type": "markdown",
   "id": "6011e60c-7919-43ed-af58-ed73b827d0b2",
   "metadata": {},
   "source": [
    "The usual standard errors for the intercept and the state/intervention coefficient from this procedure are not reliable: they are conditional on $\\hat{\\rho}$ and ignore its estimation uncertainty. This can be addressed by estimating the full joint likelihood or by using bootstrap SEs. I use a cluster bootstrap rather than joint-likelihood SEs because the bootstrap relies on empirical resampling rather than analytic, likelihood-based approximations to the sampling covariance, and it naturally propagates the uncertainty in $\\rho$ . "
   ]
  },
  {
   "cell_type": "markdown",
   "id": "26f82e99-4658-4bbb-b788-97feed723701",
   "metadata": {},
   "source": [
    "# Bootstrapped SE"
   ]
  },
  {
   "cell_type": "code",
   "execution_count": 41,
   "id": "ba592d9c-5603-4146-a004-6bf9877680e0",
   "metadata": {},
   "outputs": [],
   "source": [
    "B = 100 # Number of boostrap samples\n",
    "ids = df.school_id.unique()\n",
    "N = len(ids)"
   ]
  },
  {
   "cell_type": "code",
   "execution_count": 42,
   "id": "1b55e006-48b8-4f7a-8378-ffaef9f52e70",
   "metadata": {},
   "outputs": [
    {
     "name": "stdout",
     "output_type": "stream",
     "text": [
      "Iteration 100 at time: 13:57:28\n"
     ]
    }
   ],
   "source": [
    "boot_stats = []\n",
    "formula_boot = 'y ~ intervention_state + C(school_id, Treatment(reference=0))'\n",
    "\n",
    "for b in range(B):\n",
    "    if (b + 1) % 100 == 0:\n",
    "        current_time = datetime.datetime.now().strftime(\"%H:%M:%S\")\n",
    "        print(f\"Iteration {b + 1} at time: {current_time}\")\n",
    "        \n",
    "    # Sample with replacement and make sure school_id == 0 is always the baseline (intercept)\n",
    "    remaining_schools = np.random.choice(ids[ids != 0], size=N - 1, replace=True)\n",
    "    sampled_ids = np.concatenate(([0], remaining_schools))\n",
    "\n",
    "    df_b = pd.concat([df[df.school_id == i] for i in sampled_ids], ignore_index=True) # Bootstrap panel with repetitive IDs\n",
    "    interventions_b = np.concatenate([interventions[ids == i, :] for i in sampled_ids],axis=0) # Get the respective intervention rows\n",
    "\n",
    "    # Optimize rho\n",
    "    res = minimize(poisson_reg_joint, x0=rho_initial,\n",
    "                   args=(df_b, interventions_b,formula_boot),\n",
    "                   bounds=[(0.2, 1.0)], method=\"L-BFGS-B\")\n",
    "\n",
    "    rho_b = res.x[0]\n",
    "    s_b = state_value_fct(interventions_b, rho_b)\n",
    "    df_fit = df_b.copy()\n",
    "    df_fit[\"intervention_state\"] = s_b.ravel()\n",
    "    \n",
    "    # Refit GLM at rho_b to get betas on this bootstrap sample\n",
    "    fit_b = smf.glm(formula=formula_boot,\n",
    "                data=df_fit,\n",
    "                family=sm.families.Poisson()\n",
    "               ).fit()\n",
    "    \n",
    "    intercept_b = fit_b.params[\"Intercept\"]\n",
    "    beta_b = fit_b.params[\"intervention_state\"]\n",
    "    \n",
    "    boot_stats.append({\"rho\":rho_b, \"intercept\": intercept_b, \"beta\": beta_b})"
   ]
  },
  {
   "cell_type": "code",
   "execution_count": 43,
   "id": "e81c5736-8f3e-461c-96e6-a539fac069f9",
   "metadata": {},
   "outputs": [],
   "source": [
    "boot = pd.DataFrame(boot_stats)"
   ]
  },
  {
   "cell_type": "code",
   "execution_count": 44,
   "id": "f3fcfcb8-7bae-4c41-94f5-94a8a0e45d0d",
   "metadata": {},
   "outputs": [],
   "source": [
    "point = pd.Series({\"rho\": rho_hat, \"intercept\": df_joint.loc['Intercept','coef'], \"beta\": df_joint.loc['intervention_state','coef']},name=\"point_estimate\")"
   ]
  },
  {
   "cell_type": "code",
   "execution_count": 45,
   "id": "f27bb02e-5f26-4150-8c52-8f7d27ac5a13",
   "metadata": {},
   "outputs": [],
   "source": [
    "conf = .95\n",
    "alpha = 1 - conf"
   ]
  },
  {
   "cell_type": "code",
   "execution_count": 46,
   "id": "883b9183-14c4-4c8a-bb4a-4aa2fd78d0e5",
   "metadata": {},
   "outputs": [],
   "source": [
    "bootstrap_summary = pd.DataFrame({\n",
    "    \"ci_lo\":  boot.quantile(alpha/2),\n",
    "    \"ci_hi\":  boot.quantile(1 - alpha/2),\n",
    "    \"mean_bs\":   boot.mean(),\n",
    "    \"median_bs\": boot.median(),\n",
    "    \"se_bs\":     boot.std(ddof=1),\n",
    "}).loc[[\"rho\",\"intercept\",\"beta\"]] "
   ]
  },
  {
   "cell_type": "code",
   "execution_count": 47,
   "id": "9a7c441d-fa8f-412e-9675-ebef692cb641",
   "metadata": {
    "scrolled": true
   },
   "outputs": [],
   "source": [
    "summary = pd.concat([point, bootstrap_summary.reindex(point.index)], axis=1)"
   ]
  },
  {
   "cell_type": "code",
   "execution_count": 48,
   "id": "d0e2f73c-7cab-42d1-bdc2-aafc510bc0e9",
   "metadata": {},
   "outputs": [
    {
     "data": {
      "text/html": [
       "<div>\n",
       "<style scoped>\n",
       "    .dataframe tbody tr th:only-of-type {\n",
       "        vertical-align: middle;\n",
       "    }\n",
       "\n",
       "    .dataframe tbody tr th {\n",
       "        vertical-align: top;\n",
       "    }\n",
       "\n",
       "    .dataframe thead th {\n",
       "        text-align: right;\n",
       "    }\n",
       "</style>\n",
       "<table border=\"1\" class=\"dataframe\">\n",
       "  <thead>\n",
       "    <tr style=\"text-align: right;\">\n",
       "      <th></th>\n",
       "      <th>point_estimate</th>\n",
       "      <th>ci_lo</th>\n",
       "      <th>ci_hi</th>\n",
       "      <th>mean_bs</th>\n",
       "      <th>median_bs</th>\n",
       "      <th>se_bs</th>\n",
       "    </tr>\n",
       "  </thead>\n",
       "  <tbody>\n",
       "    <tr>\n",
       "      <th>rho</th>\n",
       "      <td>0.7922</td>\n",
       "      <td>0.6147</td>\n",
       "      <td>0.8999</td>\n",
       "      <td>0.7935</td>\n",
       "      <td>0.8127</td>\n",
       "      <td>0.0786</td>\n",
       "    </tr>\n",
       "    <tr>\n",
       "      <th>intercept</th>\n",
       "      <td>-2.5479</td>\n",
       "      <td>-2.6037</td>\n",
       "      <td>-2.5062</td>\n",
       "      <td>-2.5512</td>\n",
       "      <td>-2.5495</td>\n",
       "      <td>0.0259</td>\n",
       "    </tr>\n",
       "    <tr>\n",
       "      <th>beta</th>\n",
       "      <td>0.8505</td>\n",
       "      <td>0.5703</td>\n",
       "      <td>1.1444</td>\n",
       "      <td>0.8127</td>\n",
       "      <td>0.8122</td>\n",
       "      <td>0.1574</td>\n",
       "    </tr>\n",
       "  </tbody>\n",
       "</table>\n",
       "</div>"
      ],
      "text/plain": [
       "           point_estimate   ci_lo   ci_hi  mean_bs  median_bs  se_bs\n",
       "rho                0.7922  0.6147  0.8999   0.7935     0.8127 0.0786\n",
       "intercept         -2.5479 -2.6037 -2.5062  -2.5512    -2.5495 0.0259\n",
       "beta               0.8505  0.5703  1.1444   0.8127     0.8122 0.1574"
      ]
     },
     "execution_count": 48,
     "metadata": {},
     "output_type": "execute_result"
    }
   ],
   "source": [
    "summary"
   ]
  },
  {
   "cell_type": "markdown",
   "id": "840193cf-dffe-4b1f-9f00-51727d5c59e1",
   "metadata": {},
   "source": [
    "The table reports point estimates from the profile-likelihood (nested MLE) and 95% bootstrap percentile CIs, along with bootstrap mean, median, and SE."
   ]
  },
  {
   "cell_type": "code",
   "execution_count": null,
   "id": "67fa2003-867e-4d73-ad6d-ea95ec9f6c5f",
   "metadata": {},
   "outputs": [],
   "source": []
  }
 ],
 "metadata": {
  "kernelspec": {
   "display_name": "Python 3 (ipykernel)",
   "language": "python",
   "name": "python3"
  },
  "language_info": {
   "codemirror_mode": {
    "name": "ipython",
    "version": 3
   },
   "file_extension": ".py",
   "mimetype": "text/x-python",
   "name": "python",
   "nbconvert_exporter": "python",
   "pygments_lexer": "ipython3",
   "version": "3.12.3"
  }
 },
 "nbformat": 4,
 "nbformat_minor": 5
}
